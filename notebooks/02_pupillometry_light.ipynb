{
 "cells": [
  {
   "cell_type": "code",
   "execution_count": 2,
   "id": "bdba41b5-0080-47ee-8a8f-05b06288a375",
   "metadata": {},
   "outputs": [
    {
     "ename": "ModuleNotFoundError",
     "evalue": "No module named 'pandas'",
     "output_type": "error",
     "traceback": [
      "\u001b[31m---------------------------------------------------------------------------\u001b[39m",
      "\u001b[31mModuleNotFoundError\u001b[39m                       Traceback (most recent call last)",
      "\u001b[36mCell\u001b[39m\u001b[36m \u001b[39m\u001b[32mIn[2]\u001b[39m\u001b[32m, line 1\u001b[39m\n\u001b[32m----> \u001b[39m\u001b[32m1\u001b[39m \u001b[38;5;28;01mimport\u001b[39;00m\u001b[38;5;250m \u001b[39m\u001b[34;01mpandas\u001b[39;00m\u001b[38;5;250m \u001b[39m\u001b[38;5;28;01mas\u001b[39;00m\u001b[38;5;250m \u001b[39m\u001b[34;01mpd\u001b[39;00m\n\u001b[32m      2\u001b[39m \u001b[38;5;28;01mimport\u001b[39;00m\u001b[38;5;250m \u001b[39m\u001b[34;01mnumpy\u001b[39;00m\u001b[38;5;250m \u001b[39m\u001b[38;5;28;01mas\u001b[39;00m\u001b[38;5;250m \u001b[39m\u001b[34;01mnp\u001b[39;00m\n\u001b[32m      3\u001b[39m \u001b[38;5;28;01mimport\u001b[39;00m\u001b[38;5;250m \u001b[39m\u001b[34;01mmatplotlib\u001b[39;00m\u001b[34;01m.\u001b[39;00m\u001b[34;01mpyplot\u001b[39;00m\u001b[38;5;250m \u001b[39m\u001b[38;5;28;01mas\u001b[39;00m\u001b[38;5;250m \u001b[39m\u001b[34;01mplt\u001b[39;00m\n",
      "\u001b[31mModuleNotFoundError\u001b[39m: No module named 'pandas'"
     ]
    }
   ],
   "source": [
    "import pandas as pd\n",
    "import numpy as np\n",
    "import matplotlib.pyplot as plt\n",
    "\n",
    "df = pd.read_csv(\"../data/pupil/pupil_trials.csv\")\n",
    "df.head()"
   ]
  },
  {
   "cell_type": "code",
   "execution_count": 3,
   "id": "b86a7a58-95d7-47d7-9e12-872031e59dfa",
   "metadata": {},
   "outputs": [
    {
     "ename": "NameError",
     "evalue": "name 'df' is not defined",
     "output_type": "error",
     "traceback": [
      "\u001b[31m---------------------------------------------------------------------------\u001b[39m",
      "\u001b[31mNameError\u001b[39m                                 Traceback (most recent call last)",
      "\u001b[36mCell\u001b[39m\u001b[36m \u001b[39m\u001b[32mIn[3]\u001b[39m\u001b[32m, line 1\u001b[39m\n\u001b[32m----> \u001b[39m\u001b[32m1\u001b[39m t = \u001b[43mdf\u001b[49m[\u001b[33m\"\u001b[39m\u001b[33mt_s\u001b[39m\u001b[33m\"\u001b[39m].values\n\u001b[32m      2\u001b[39m y = df[\u001b[33m\"\u001b[39m\u001b[33mpupil_mm\u001b[39m\u001b[33m\"\u001b[39m].values\n\u001b[32m      3\u001b[39m lux = df[\u001b[33m\"\u001b[39m\u001b[33mlux\u001b[39m\u001b[33m\"\u001b[39m].values\n",
      "\u001b[31mNameError\u001b[39m: name 'df' is not defined"
     ]
    }
   ],
   "source": [
    "t = df[\"t_s\"].values\n",
    "y = df[\"pupil_mm\"].values\n",
    "lux = df[\"lux\"].values\n",
    "on_mask = (lux >= 500)           # our simple “light on” detector\n",
    "t_on = t[on_mask].min()\n",
    "t_off = t[on_mask].max()\n",
    "\n",
    "plt.figure(figsize=(12,4))\n",
    "plt.plot(t, y, '.', ms=2, alpha=0.6, label=\"Pupil (mm)\")\n",
    "plt.axvspan(t_on, t_off, color='yellow', alpha=0.2, label=\"Light ON\")\n",
    "plt.xlabel(\"Time (s)\"); plt.ylabel(\"Pupil diameter (mm)\")\n",
    "plt.title(\"Pupillometry under Light Step\")\n",
    "plt.legend(); plt.grid(True); plt.show()"
   ]
  },
  {
   "cell_type": "code",
   "execution_count": 4,
   "id": "384f73e5-490e-4a75-9127-0dc0e9c3f7fa",
   "metadata": {},
   "outputs": [
    {
     "ename": "ModuleNotFoundError",
     "evalue": "No module named 'scipy'",
     "output_type": "error",
     "traceback": [
      "\u001b[31m---------------------------------------------------------------------------\u001b[39m",
      "\u001b[31mModuleNotFoundError\u001b[39m                       Traceback (most recent call last)",
      "\u001b[36mCell\u001b[39m\u001b[36m \u001b[39m\u001b[32mIn[4]\u001b[39m\u001b[32m, line 1\u001b[39m\n\u001b[32m----> \u001b[39m\u001b[32m1\u001b[39m \u001b[38;5;28;01mfrom\u001b[39;00m\u001b[38;5;250m \u001b[39m\u001b[34;01mscipy\u001b[39;00m\u001b[34;01m.\u001b[39;00m\u001b[34;01moptimize\u001b[39;00m\u001b[38;5;250m \u001b[39m\u001b[38;5;28;01mimport\u001b[39;00m curve_fit\n\u001b[32m      3\u001b[39m \u001b[38;5;66;03m# Baseline: mean pupil before the step (e.g., 20s window before t_on)\u001b[39;00m\n\u001b[32m      4\u001b[39m baseline_window = (t >= t_on-\u001b[32m20\u001b[39m) & (t < t_on)\n",
      "\u001b[31mModuleNotFoundError\u001b[39m: No module named 'scipy'"
     ]
    }
   ],
   "source": [
    "from scipy.optimize import curve_fit\n",
    "\n",
    "# Baseline: mean pupil before the step (e.g., 20s window before t_on)\n",
    "baseline_window = (t >= t_on-20) & (t < t_on)\n",
    "baseline_mm = float(np.mean(y[baseline_window]))\n",
    "\n",
    "# Minimum after light onset within 15s window\n",
    "post_window = (t >= t_on) & (t <= t_on+15)\n",
    "min_idx = np.argmin(y[post_window])\n",
    "t_min = float(t[post_window][min_idx])\n",
    "y_min = float(y[post_window][min_idx])\n",
    "\n",
    "# Percent constriction\n",
    "pct_constriction = 100.0 * (baseline_mm - y_min) / baseline_mm\n",
    "\n",
    "# Latency to 10% of total constriction (from t_on)\n",
    "target_10 = baseline_mm - 0.10*(baseline_mm - y_min)\n",
    "# find first time y <= target_10 after t_on\n",
    "lat_mask = (t >= t_on) & (t <= t_on+5)  # search up to 5s\n",
    "lat_candidates = t[lat_mask][y[lat_mask] <= target_10]\n",
    "latency_10pct = float(lat_candidates[0] - t_on) if len(lat_candidates) else np.nan\n",
    "\n",
    "# Recovery time constant τ: fit exponential on recovery (t >= t_off)\n",
    "rec_mask = t >= t_off\n",
    "t_rec = t[rec_mask] - t_off\n",
    "y_rec = y[rec_mask]\n",
    "\n",
    "def rec_model(ts, A, tau, C):\n",
    "    # A*exp(-t/tau) + C\n",
    "    return A*np.exp(-ts/tau) + C\n",
    "\n",
    "# Initial guesses: A ~ (y_min - baseline), tau ~ 5s, C ~ baseline\n",
    "p0 = [y_min - baseline_mm, 5.0, baseline_mm]\n",
    "try:\n",
    "    popt, _ = curve_fit(rec_model, t_rec, y_rec, p0=p0, maxfev=10000)\n",
    "    A_hat, tau_hat, C_hat = map(float, popt)\n",
    "    tau_recovery = abs(tau_hat)\n",
    "except Exception:\n",
    "    tau_recovery = np.nan\n",
    "\n",
    "metrics = dict(\n",
    "    baseline_mm=round(baseline_mm,3),\n",
    "    min_mm=round(y_min,3),\n",
    "    t_on=float(t_on),\n",
    "    t_off=float(t_off),\n",
    "    t_min=float(t_min),\n",
    "    pct_constriction=round(pct_constriction,2),\n",
    "    latency_10pct_s=round(latency_10pct,3) if not np.isnan(latency_10pct) else None,\n",
    "    tau_recovery_s=round(tau_recovery,3) if not np.isnan(tau_recovery) else None\n",
    ")\n",
    "metrics"
   ]
  },
  {
   "cell_type": "code",
   "execution_count": 5,
   "id": "4a485327-2173-4ec3-9f15-f11df077809d",
   "metadata": {},
   "outputs": [
    {
     "ename": "NameError",
     "evalue": "name 'plt' is not defined",
     "output_type": "error",
     "traceback": [
      "\u001b[31m---------------------------------------------------------------------------\u001b[39m",
      "\u001b[31mNameError\u001b[39m                                 Traceback (most recent call last)",
      "\u001b[36mCell\u001b[39m\u001b[36m \u001b[39m\u001b[32mIn[5]\u001b[39m\u001b[32m, line 1\u001b[39m\n\u001b[32m----> \u001b[39m\u001b[32m1\u001b[39m fig, ax = \u001b[43mplt\u001b[49m.subplots(figsize=(\u001b[32m12\u001b[39m,\u001b[32m4\u001b[39m))\n\u001b[32m      2\u001b[39m ax.plot(t, y, \u001b[33m'\u001b[39m\u001b[33m.\u001b[39m\u001b[33m'\u001b[39m, ms=\u001b[32m2\u001b[39m, alpha=\u001b[32m0.6\u001b[39m, label=\u001b[33m\"\u001b[39m\u001b[33mPupil\u001b[39m\u001b[33m\"\u001b[39m)\n\u001b[32m      3\u001b[39m ax.axvspan(t_on, t_off, color=\u001b[33m'\u001b[39m\u001b[33myellow\u001b[39m\u001b[33m'\u001b[39m, alpha=\u001b[32m0.2\u001b[39m, label=\u001b[33m\"\u001b[39m\u001b[33mLight ON\u001b[39m\u001b[33m\"\u001b[39m)\n",
      "\u001b[31mNameError\u001b[39m: name 'plt' is not defined"
     ]
    }
   ],
   "source": [
    "fig, ax = plt.subplots(figsize=(12,4))\n",
    "ax.plot(t, y, '.', ms=2, alpha=0.6, label=\"Pupil\")\n",
    "ax.axvspan(t_on, t_off, color='yellow', alpha=0.2, label=\"Light ON\")\n",
    "ax.axhline(metrics[\"baseline_mm\"], color='gray', lw=1, ls='--', label=\"Baseline\")\n",
    "ax.plot([t_min],[metrics[\"min_mm\"]],'r*', ms=12, label=\"Minimum\")\n",
    "\n",
    "# recovery fit line (if available)\n",
    "if metrics[\"tau_recovery_s\"] is not None:\n",
    "    t_fit = np.linspace(t_off, t[-1], 400)\n",
    "    y_fit = rec_model(t_fit-t_off, A_hat, tau_hat, C_hat)\n",
    "    ax.plot(t_fit, y_fit, '-', lw=2, label=f\"Recovery fit (τ≈{metrics['tau_recovery_s']} s)\")\n",
    "\n",
    "ax.set_xlabel(\"Time (s)\"); ax.set_ylabel(\"Pupil (mm)\")\n",
    "ax.set_title(\"Pupil response with markers & recovery fit\")\n",
    "ax.grid(True); ax.legend(loc='best'); plt.show()"
   ]
  },
  {
   "cell_type": "code",
   "execution_count": 6,
   "id": "e7cecbaa-120a-424d-9179-9cee622b0dd6",
   "metadata": {},
   "outputs": [
    {
     "ename": "NameError",
     "evalue": "name 'plt' is not defined",
     "output_type": "error",
     "traceback": [
      "\u001b[31m---------------------------------------------------------------------------\u001b[39m",
      "\u001b[31mNameError\u001b[39m                                 Traceback (most recent call last)",
      "\u001b[36mCell\u001b[39m\u001b[36m \u001b[39m\u001b[32mIn[6]\u001b[39m\u001b[32m, line 2\u001b[39m\n\u001b[32m      1\u001b[39m \u001b[38;5;66;03m# Figures\u001b[39;00m\n\u001b[32m----> \u001b[39m\u001b[32m2\u001b[39m \u001b[43mplt\u001b[49m.figure(figsize=(\u001b[32m12\u001b[39m,\u001b[32m4\u001b[39m))\n\u001b[32m      3\u001b[39m plt.plot(t, y, \u001b[33m'\u001b[39m\u001b[33m.\u001b[39m\u001b[33m'\u001b[39m, ms=\u001b[32m2\u001b[39m, alpha=\u001b[32m0.6\u001b[39m)\n\u001b[32m      4\u001b[39m plt.axvspan(t_on, t_off, color=\u001b[33m'\u001b[39m\u001b[33myellow\u001b[39m\u001b[33m'\u001b[39m, alpha=\u001b[32m0.2\u001b[39m)\n",
      "\u001b[31mNameError\u001b[39m: name 'plt' is not defined"
     ]
    }
   ],
   "source": [
    "# Figures\n",
    "plt.figure(figsize=(12,4))\n",
    "plt.plot(t, y, '.', ms=2, alpha=0.6)\n",
    "plt.axvspan(t_on, t_off, color='yellow', alpha=0.2)\n",
    "plt.xlabel(\"Time (s)\"); plt.ylabel(\"Pupil (mm)\")\n",
    "plt.title(\"Pupillometry under Light Step\")\n",
    "plt.grid(True)\n",
    "plt.savefig(\"../report/pupil_timeseries.png\", dpi=200, bbox_inches=\"tight\")\n",
    "plt.close()\n",
    "\n",
    "# Metrics text\n",
    "with open(\"../report/pupil_metrics.txt\",\"w\") as f:\n",
    "    for k,v in metrics.items():\n",
    "        f.write(f\"{k}: {v}\\n\")\n",
    "\n",
    "\"Saved ../report/pupil_timeseries.png and ../report/pupil_metrics.txt ✅\""
   ]
  },
  {
   "cell_type": "code",
   "execution_count": null,
   "id": "c5ee9d5e-43da-420d-9f89-b602751ae0b1",
   "metadata": {},
   "outputs": [],
   "source": []
  },
  {
   "cell_type": "code",
   "execution_count": null,
   "id": "e10dd7e7-7047-4af2-89ed-32dd23d91f93",
   "metadata": {},
   "outputs": [],
   "source": []
  }
 ],
 "metadata": {
  "kernelspec": {
   "display_name": "Python 3 (ipykernel)",
   "language": "python",
   "name": "python3"
  },
  "language_info": {
   "codemirror_mode": {
    "name": "ipython",
    "version": 3
   },
   "file_extension": ".py",
   "mimetype": "text/x-python",
   "name": "python",
   "nbconvert_exporter": "python",
   "pygments_lexer": "ipython3",
   "version": "3.12.11"
  }
 },
 "nbformat": 4,
 "nbformat_minor": 5
}
